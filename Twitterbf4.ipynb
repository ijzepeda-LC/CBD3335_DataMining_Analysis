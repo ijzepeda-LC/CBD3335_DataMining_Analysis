{
 "cells": [
  {
   "cell_type": "code",
   "execution_count": null,
   "id": "c15ec6b1",
   "metadata": {},
   "outputs": [],
   "source": [
    "import requests\n",
    "import json\n",
    "import csv\n",
    "from bs4 import BeautifulSoup\n",
    "import pandas as pd"
   ]
  },
  {
   "cell_type": "code",
   "execution_count": 16,
   "id": "06d69a04",
   "metadata": {},
   "outputs": [
    {
     "name": "stdout",
     "output_type": "stream",
     "text": [
      "https://twitter.com/search?q=Altcoin\n",
      "[<div class=\"errorContainer\">\n",
      "<img alt=\"Twitter\" height=\"38\" src=\"https://abs.twimg.com/errors/logo46x38.png\" srcset=\"https://abs.twimg.com/errors/logo46x38.png 1x, https://abs.twimg.com/errors/logo46x38@2x.png 2x\" width=\"46\"/>\n",
      "<h1>JavaScript is not available.</h1>\n",
      "<p>We’ve detected that JavaScript is disabled in this browser. Please enable JavaScript or switch to a supported browser to continue using twitter.com. You can see a list of supported browsers in our Help Center.</p>\n",
      "<p class=\"errorButton\"><a href=\"https://help.twitter.com/using-twitter/twitter-supported-browsers\">Help Center</a></p>\n",
      "<p class=\"errorFooter\">\n",
      "<a href=\"https://twitter.com/tos\">Terms of Service</a>\n",
      "<a href=\"https://twitter.com/privacy\">Privacy Policy</a>\n",
      "<a href=\"https://support.twitter.com/articles/20170514\">Cookie Policy</a>\n",
      "<a href=\"https://legal.twitter.com/imprint.html\">Imprint</a>\n",
      "<a href=\"https://business.twitter.com/en/help/troubleshooting/how-twitter-ads-work.html?ref=web-twc-ao-gbl-adsinfo&amp;utm_source=twc&amp;utm_medium=web&amp;utm_campaign=ao&amp;utm_content=adsinfo\">Ads info</a>\n",
      "      © 2023 X Corp.\n",
      "    </p>\n",
      "</div>, <div id=\"react-root\" style=\"height:100%;display:flex;\"><div class=\"css-1dbjc4n r-13awgt0 r-12vffkv\"><div class=\"css-1dbjc4n r-13awgt0 r-12vffkv\"><div aria-label=\"Loading…\" class=\"css-1dbjc4n r-14lw9ot r-1p0dtai r-1d2f490 r-1xcajam r-zchlnj r-ipm5af\" id=\"placeholder\"><svg aria-hidden=\"true\" class=\"r-1p0dtai r-13gxpu9 r-4qtqp9 r-yyyyoo r-wy61xf r-1d2f490 r-ywje51 r-dnmrzs r-u8s1d r-zchlnj r-1plcrui r-ipm5af r-lrvibr r-1blnp2b\" viewbox=\"0 0 24 24\"><g><path d=\"M23.643 4.937c-.835.37-1.732.62-2.675.733.962-.576 1.7-1.49 2.048-2.578-.9.534-1.897.922-2.958 1.13-.85-.904-2.06-1.47-3.4-1.47-2.572 0-4.658 2.086-4.658 4.66 0 .364.042.718.12 1.06-3.873-.195-7.304-2.05-9.602-4.868-.4.69-.63 1.49-.63 2.342 0 1.616.823 3.043 2.072 3.878-.764-.025-1.482-.234-2.11-.583v.06c0 2.257 1.605 4.14 3.737 4.568-.392.106-.803.162-1.227.162-.3 0-.593-.028-.877-.082.593 1.85 2.313 3.198 4.352 3.234-1.595 1.25-3.604 1.995-5.786 1.995-.376 0-.747-.022-1.112-.065 2.062 1.323 4.51 2.093 7.14 2.093 8.57 0 13.255-7.098 13.255-13.254 0-.2-.005-.402-.014-.602.91-.658 1.7-1.477 2.323-2.41z\"></path></g></svg></div><div class=\"css-1dbjc4n r-hvic4v r-1d2f490 r-1xcajam r-zchlnj r-1ykxob0\" id=\"ScriptLoadFailure\"><form action=\"\" method=\"GET\"><div class=\"css-1dbjc4n r-1awozwy r-q4m81j\"><div class=\"css-901oao r-37j5jr r-a023e6 r-16dba41 r-rjixqe r-bcqeeo r-qvutc0\" dir=\"ltr\" style=\"color:rgba(15,20,25,1.00)\"><span class=\"css-901oao css-16my406 r-poiln3 r-bcqeeo r-qvutc0\">Something went wrong, but don’t fret — let’s give it another shot.</span></div><br/><input name=\"failedScript\" type=\"hidden\" value=\"\"/><button style=\"background:transparent;border:none\" type=\"submit\"><div class=\"css-18t94o4 css-1dbjc4n r-sdzlij r-1phboty r-rs99b7 r-2yi16 r-1qi8awa r-1ny4l3l r-ymttw5 r-o7ynqc r-6416eg r-lrvibr\" role=\"button\" style=\"background-color:rgba(15,20,25,1.00);border-top-color:rgba(0,0,0,0.00);border-right-color:rgba(0,0,0,0.00);border-bottom-color:rgba(0,0,0,0.00);border-left-color:rgba(0,0,0,0.00)\" tabindex=\"0\"><div class=\"css-901oao r-1awozwy r-6koalj r-18u37iz r-16y2uox r-37j5jr r-a023e6 r-b88u0q r-1777fci r-rjixqe r-bcqeeo r-q4m81j r-qvutc0\" dir=\"ltr\" style=\"color:rgba(255,255,255,1.00)\"><span class=\"css-901oao css-16my406 css-1hf3ou5 r-poiln3 r-a023e6 r-rjixqe r-bcqeeo r-qvutc0\"><span class=\"css-901oao css-16my406 r-poiln3 r-bcqeeo r-qvutc0\">Try again</span></span></div></div></button></div></form></div></div></div></div>, <div class=\"css-1dbjc4n r-13awgt0 r-12vffkv\"><div class=\"css-1dbjc4n r-13awgt0 r-12vffkv\"><div aria-label=\"Loading…\" class=\"css-1dbjc4n r-14lw9ot r-1p0dtai r-1d2f490 r-1xcajam r-zchlnj r-ipm5af\" id=\"placeholder\"><svg aria-hidden=\"true\" class=\"r-1p0dtai r-13gxpu9 r-4qtqp9 r-yyyyoo r-wy61xf r-1d2f490 r-ywje51 r-dnmrzs r-u8s1d r-zchlnj r-1plcrui r-ipm5af r-lrvibr r-1blnp2b\" viewbox=\"0 0 24 24\"><g><path d=\"M23.643 4.937c-.835.37-1.732.62-2.675.733.962-.576 1.7-1.49 2.048-2.578-.9.534-1.897.922-2.958 1.13-.85-.904-2.06-1.47-3.4-1.47-2.572 0-4.658 2.086-4.658 4.66 0 .364.042.718.12 1.06-3.873-.195-7.304-2.05-9.602-4.868-.4.69-.63 1.49-.63 2.342 0 1.616.823 3.043 2.072 3.878-.764-.025-1.482-.234-2.11-.583v.06c0 2.257 1.605 4.14 3.737 4.568-.392.106-.803.162-1.227.162-.3 0-.593-.028-.877-.082.593 1.85 2.313 3.198 4.352 3.234-1.595 1.25-3.604 1.995-5.786 1.995-.376 0-.747-.022-1.112-.065 2.062 1.323 4.51 2.093 7.14 2.093 8.57 0 13.255-7.098 13.255-13.254 0-.2-.005-.402-.014-.602.91-.658 1.7-1.477 2.323-2.41z\"></path></g></svg></div><div class=\"css-1dbjc4n r-hvic4v r-1d2f490 r-1xcajam r-zchlnj r-1ykxob0\" id=\"ScriptLoadFailure\"><form action=\"\" method=\"GET\"><div class=\"css-1dbjc4n r-1awozwy r-q4m81j\"><div class=\"css-901oao r-37j5jr r-a023e6 r-16dba41 r-rjixqe r-bcqeeo r-qvutc0\" dir=\"ltr\" style=\"color:rgba(15,20,25,1.00)\"><span class=\"css-901oao css-16my406 r-poiln3 r-bcqeeo r-qvutc0\">Something went wrong, but don’t fret — let’s give it another shot.</span></div><br/><input name=\"failedScript\" type=\"hidden\" value=\"\"/><button style=\"background:transparent;border:none\" type=\"submit\"><div class=\"css-18t94o4 css-1dbjc4n r-sdzlij r-1phboty r-rs99b7 r-2yi16 r-1qi8awa r-1ny4l3l r-ymttw5 r-o7ynqc r-6416eg r-lrvibr\" role=\"button\" style=\"background-color:rgba(15,20,25,1.00);border-top-color:rgba(0,0,0,0.00);border-right-color:rgba(0,0,0,0.00);border-bottom-color:rgba(0,0,0,0.00);border-left-color:rgba(0,0,0,0.00)\" tabindex=\"0\"><div class=\"css-901oao r-1awozwy r-6koalj r-18u37iz r-16y2uox r-37j5jr r-a023e6 r-b88u0q r-1777fci r-rjixqe r-bcqeeo r-q4m81j r-qvutc0\" dir=\"ltr\" style=\"color:rgba(255,255,255,1.00)\"><span class=\"css-901oao css-16my406 css-1hf3ou5 r-poiln3 r-a023e6 r-rjixqe r-bcqeeo r-qvutc0\"><span class=\"css-901oao css-16my406 r-poiln3 r-bcqeeo r-qvutc0\">Try again</span></span></div></div></button></div></form></div></div></div>, <div class=\"css-1dbjc4n r-13awgt0 r-12vffkv\"><div aria-label=\"Loading…\" class=\"css-1dbjc4n r-14lw9ot r-1p0dtai r-1d2f490 r-1xcajam r-zchlnj r-ipm5af\" id=\"placeholder\"><svg aria-hidden=\"true\" class=\"r-1p0dtai r-13gxpu9 r-4qtqp9 r-yyyyoo r-wy61xf r-1d2f490 r-ywje51 r-dnmrzs r-u8s1d r-zchlnj r-1plcrui r-ipm5af r-lrvibr r-1blnp2b\" viewbox=\"0 0 24 24\"><g><path d=\"M23.643 4.937c-.835.37-1.732.62-2.675.733.962-.576 1.7-1.49 2.048-2.578-.9.534-1.897.922-2.958 1.13-.85-.904-2.06-1.47-3.4-1.47-2.572 0-4.658 2.086-4.658 4.66 0 .364.042.718.12 1.06-3.873-.195-7.304-2.05-9.602-4.868-.4.69-.63 1.49-.63 2.342 0 1.616.823 3.043 2.072 3.878-.764-.025-1.482-.234-2.11-.583v.06c0 2.257 1.605 4.14 3.737 4.568-.392.106-.803.162-1.227.162-.3 0-.593-.028-.877-.082.593 1.85 2.313 3.198 4.352 3.234-1.595 1.25-3.604 1.995-5.786 1.995-.376 0-.747-.022-1.112-.065 2.062 1.323 4.51 2.093 7.14 2.093 8.57 0 13.255-7.098 13.255-13.254 0-.2-.005-.402-.014-.602.91-.658 1.7-1.477 2.323-2.41z\"></path></g></svg></div><div class=\"css-1dbjc4n r-hvic4v r-1d2f490 r-1xcajam r-zchlnj r-1ykxob0\" id=\"ScriptLoadFailure\"><form action=\"\" method=\"GET\"><div class=\"css-1dbjc4n r-1awozwy r-q4m81j\"><div class=\"css-901oao r-37j5jr r-a023e6 r-16dba41 r-rjixqe r-bcqeeo r-qvutc0\" dir=\"ltr\" style=\"color:rgba(15,20,25,1.00)\"><span class=\"css-901oao css-16my406 r-poiln3 r-bcqeeo r-qvutc0\">Something went wrong, but don’t fret — let’s give it another shot.</span></div><br/><input name=\"failedScript\" type=\"hidden\" value=\"\"/><button style=\"background:transparent;border:none\" type=\"submit\"><div class=\"css-18t94o4 css-1dbjc4n r-sdzlij r-1phboty r-rs99b7 r-2yi16 r-1qi8awa r-1ny4l3l r-ymttw5 r-o7ynqc r-6416eg r-lrvibr\" role=\"button\" style=\"background-color:rgba(15,20,25,1.00);border-top-color:rgba(0,0,0,0.00);border-right-color:rgba(0,0,0,0.00);border-bottom-color:rgba(0,0,0,0.00);border-left-color:rgba(0,0,0,0.00)\" tabindex=\"0\"><div class=\"css-901oao r-1awozwy r-6koalj r-18u37iz r-16y2uox r-37j5jr r-a023e6 r-b88u0q r-1777fci r-rjixqe r-bcqeeo r-q4m81j r-qvutc0\" dir=\"ltr\" style=\"color:rgba(255,255,255,1.00)\"><span class=\"css-901oao css-16my406 css-1hf3ou5 r-poiln3 r-a023e6 r-rjixqe r-bcqeeo r-qvutc0\"><span class=\"css-901oao css-16my406 r-poiln3 r-bcqeeo r-qvutc0\">Try again</span></span></div></div></button></div></form></div></div>, <div aria-label=\"Loading…\" class=\"css-1dbjc4n r-14lw9ot r-1p0dtai r-1d2f490 r-1xcajam r-zchlnj r-ipm5af\" id=\"placeholder\"><svg aria-hidden=\"true\" class=\"r-1p0dtai r-13gxpu9 r-4qtqp9 r-yyyyoo r-wy61xf r-1d2f490 r-ywje51 r-dnmrzs r-u8s1d r-zchlnj r-1plcrui r-ipm5af r-lrvibr r-1blnp2b\" viewbox=\"0 0 24 24\"><g><path d=\"M23.643 4.937c-.835.37-1.732.62-2.675.733.962-.576 1.7-1.49 2.048-2.578-.9.534-1.897.922-2.958 1.13-.85-.904-2.06-1.47-3.4-1.47-2.572 0-4.658 2.086-4.658 4.66 0 .364.042.718.12 1.06-3.873-.195-7.304-2.05-9.602-4.868-.4.69-.63 1.49-.63 2.342 0 1.616.823 3.043 2.072 3.878-.764-.025-1.482-.234-2.11-.583v.06c0 2.257 1.605 4.14 3.737 4.568-.392.106-.803.162-1.227.162-.3 0-.593-.028-.877-.082.593 1.85 2.313 3.198 4.352 3.234-1.595 1.25-3.604 1.995-5.786 1.995-.376 0-.747-.022-1.112-.065 2.062 1.323 4.51 2.093 7.14 2.093 8.57 0 13.255-7.098 13.255-13.254 0-.2-.005-.402-.014-.602.91-.658 1.7-1.477 2.323-2.41z\"></path></g></svg></div>, <div class=\"css-1dbjc4n r-hvic4v r-1d2f490 r-1xcajam r-zchlnj r-1ykxob0\" id=\"ScriptLoadFailure\"><form action=\"\" method=\"GET\"><div class=\"css-1dbjc4n r-1awozwy r-q4m81j\"><div class=\"css-901oao r-37j5jr r-a023e6 r-16dba41 r-rjixqe r-bcqeeo r-qvutc0\" dir=\"ltr\" style=\"color:rgba(15,20,25,1.00)\"><span class=\"css-901oao css-16my406 r-poiln3 r-bcqeeo r-qvutc0\">Something went wrong, but don’t fret — let’s give it another shot.</span></div><br/><input name=\"failedScript\" type=\"hidden\" value=\"\"/><button style=\"background:transparent;border:none\" type=\"submit\"><div class=\"css-18t94o4 css-1dbjc4n r-sdzlij r-1phboty r-rs99b7 r-2yi16 r-1qi8awa r-1ny4l3l r-ymttw5 r-o7ynqc r-6416eg r-lrvibr\" role=\"button\" style=\"background-color:rgba(15,20,25,1.00);border-top-color:rgba(0,0,0,0.00);border-right-color:rgba(0,0,0,0.00);border-bottom-color:rgba(0,0,0,0.00);border-left-color:rgba(0,0,0,0.00)\" tabindex=\"0\"><div class=\"css-901oao r-1awozwy r-6koalj r-18u37iz r-16y2uox r-37j5jr r-a023e6 r-b88u0q r-1777fci r-rjixqe r-bcqeeo r-q4m81j r-qvutc0\" dir=\"ltr\" style=\"color:rgba(255,255,255,1.00)\"><span class=\"css-901oao css-16my406 css-1hf3ou5 r-poiln3 r-a023e6 r-rjixqe r-bcqeeo r-qvutc0\"><span class=\"css-901oao css-16my406 r-poiln3 r-bcqeeo r-qvutc0\">Try again</span></span></div></div></button></div></form></div>, <div class=\"css-1dbjc4n r-1awozwy r-q4m81j\"><div class=\"css-901oao r-37j5jr r-a023e6 r-16dba41 r-rjixqe r-bcqeeo r-qvutc0\" dir=\"ltr\" style=\"color:rgba(15,20,25,1.00)\"><span class=\"css-901oao css-16my406 r-poiln3 r-bcqeeo r-qvutc0\">Something went wrong, but don’t fret — let’s give it another shot.</span></div><br/><input name=\"failedScript\" type=\"hidden\" value=\"\"/><button style=\"background:transparent;border:none\" type=\"submit\"><div class=\"css-18t94o4 css-1dbjc4n r-sdzlij r-1phboty r-rs99b7 r-2yi16 r-1qi8awa r-1ny4l3l r-ymttw5 r-o7ynqc r-6416eg r-lrvibr\" role=\"button\" style=\"background-color:rgba(15,20,25,1.00);border-top-color:rgba(0,0,0,0.00);border-right-color:rgba(0,0,0,0.00);border-bottom-color:rgba(0,0,0,0.00);border-left-color:rgba(0,0,0,0.00)\" tabindex=\"0\"><div class=\"css-901oao r-1awozwy r-6koalj r-18u37iz r-16y2uox r-37j5jr r-a023e6 r-b88u0q r-1777fci r-rjixqe r-bcqeeo r-q4m81j r-qvutc0\" dir=\"ltr\" style=\"color:rgba(255,255,255,1.00)\"><span class=\"css-901oao css-16my406 css-1hf3ou5 r-poiln3 r-a023e6 r-rjixqe r-bcqeeo r-qvutc0\"><span class=\"css-901oao css-16my406 r-poiln3 r-bcqeeo r-qvutc0\">Try again</span></span></div></div></button></div>, <div class=\"css-901oao r-37j5jr r-a023e6 r-16dba41 r-rjixqe r-bcqeeo r-qvutc0\" dir=\"ltr\" style=\"color:rgba(15,20,25,1.00)\"><span class=\"css-901oao css-16my406 r-poiln3 r-bcqeeo r-qvutc0\">Something went wrong, but don’t fret — let’s give it another shot.</span></div>, <div class=\"css-18t94o4 css-1dbjc4n r-sdzlij r-1phboty r-rs99b7 r-2yi16 r-1qi8awa r-1ny4l3l r-ymttw5 r-o7ynqc r-6416eg r-lrvibr\" role=\"button\" style=\"background-color:rgba(15,20,25,1.00);border-top-color:rgba(0,0,0,0.00);border-right-color:rgba(0,0,0,0.00);border-bottom-color:rgba(0,0,0,0.00);border-left-color:rgba(0,0,0,0.00)\" tabindex=\"0\"><div class=\"css-901oao r-1awozwy r-6koalj r-18u37iz r-16y2uox r-37j5jr r-a023e6 r-b88u0q r-1777fci r-rjixqe r-bcqeeo r-q4m81j r-qvutc0\" dir=\"ltr\" style=\"color:rgba(255,255,255,1.00)\"><span class=\"css-901oao css-16my406 css-1hf3ou5 r-poiln3 r-a023e6 r-rjixqe r-bcqeeo r-qvutc0\"><span class=\"css-901oao css-16my406 r-poiln3 r-bcqeeo r-qvutc0\">Try again</span></span></div></div>, <div class=\"css-901oao r-1awozwy r-6koalj r-18u37iz r-16y2uox r-37j5jr r-a023e6 r-b88u0q r-1777fci r-rjixqe r-bcqeeo r-q4m81j r-qvutc0\" dir=\"ltr\" style=\"color:rgba(255,255,255,1.00)\"><span class=\"css-901oao css-16my406 css-1hf3ou5 r-poiln3 r-a023e6 r-rjixqe r-bcqeeo r-qvutc0\"><span class=\"css-901oao css-16my406 r-poiln3 r-bcqeeo r-qvutc0\">Try again</span></span></div>]\n"
     ]
    }
   ],
   "source": [
    "# Define the keywords\n",
    "keywords = ['Altcoin']\n",
    "\n",
    "# Set the base URL for Twitter search\n",
    "base_url = 'https://twitter.com/search?q='\n",
    "\n",
    "# Define a function to scrape tweets and save them in a CSV file\n",
    "def scrape_tweets(keyword):\n",
    "    # Create the search URL for the keyword\n",
    "    search_url = base_url + keyword\n",
    "    print(search_url)\n",
    "    # Send a GET request to the search URL\n",
    "    response = requests.get(search_url)\n",
    "\n",
    "    # Create a BeautifulSoup object with the response content\n",
    "    soup = BeautifulSoup(response.content, 'html.parser')\n",
    "\n",
    "    # Find all tweet elements\n",
    "#     tweets = soup.find_all('div', class_='css-1dbjc4n r-1iusvr4 r-16y2uox') #data-testid\n",
    "    tweets = soup.find_all('div') #data-testid\n",
    "    print(tweets)\n",
    "#     # Prepare the CSV file for writing\n",
    "#     file_path = f'{keyword.lower()}_tweets.csv'\n",
    "#     with open(file_path, 'w', newline='', encoding='utf-8') as file:\n",
    "#         writer = csv.writer(file)\n",
    "#         writer.writerow(['tweet_id', 'time_of_tweet', 'user_id', 'text'])\n",
    "\n",
    "#         # Iterate over the tweet elements\n",
    "#         for tweet in tweets:\n",
    "#             # Extract relevant data from the tweet element\n",
    "#             tweet_id = tweet['data-tweet-id']\n",
    "#             time_of_tweet = tweet.find('a', class_='tweet-timestamp')['title']\n",
    "#             user_id = tweet['data-user-id']\n",
    "#             text = tweet.find('div', class_='tweet-text').get_text(strip=True)\n",
    "\n",
    "#             # Write the data to the CSV file\n",
    "#             writer.writerow([tweet_id, time_of_tweet, user_id, text])\n",
    "\n",
    "#     print(f\"Collected tweets for {keyword} and saved them in {file_path}\")\n",
    "\n",
    "# Scrape tweets for each keyword\n",
    "for keyword in keywords:\n",
    "    scrape_tweets(keyword)"
   ]
  },
  {
   "cell_type": "code",
   "execution_count": 2,
   "id": "0f74b632",
   "metadata": {},
   "outputs": [],
   "source": [
    "\n",
    "df = pd.read_csv('altcoin_tweets.csv')\n",
    "\n",
    "df"
   ]
  },
  {
   "cell_type": "code",
   "execution_count": 10,
   "id": "f41b3090",
   "metadata": {},
   "outputs": [
    {
     "ename": "TypeError",
     "evalue": "__init__() got an unexpected keyword argument 'service'",
     "output_type": "error",
     "traceback": [
      "\u001b[0;31m---------------------------------------------------------------------------\u001b[0m",
      "\u001b[0;31mTypeError\u001b[0m                                 Traceback (most recent call last)",
      "Cell \u001b[0;32mIn[10], line 14\u001b[0m\n\u001b[1;32m     11\u001b[0m path_to_chromedriver \u001b[38;5;241m=\u001b[39m \u001b[38;5;124m'\u001b[39m\u001b[38;5;124m/usr/local/bin/chromedriver\u001b[39m\u001b[38;5;124m'\u001b[39m\n\u001b[1;32m     13\u001b[0m \u001b[38;5;66;03m# Create a new instance of the Chrome driver\u001b[39;00m\n\u001b[0;32m---> 14\u001b[0m driver \u001b[38;5;241m=\u001b[39m \u001b[43mwebdriver\u001b[49m\u001b[38;5;241;43m.\u001b[39;49m\u001b[43mChrome\u001b[49m\u001b[43m(\u001b[49m\u001b[43mservice\u001b[49m\u001b[38;5;241;43m=\u001b[39;49m\u001b[43mService\u001b[49m\u001b[43m(\u001b[49m\u001b[43mpath_to_chromedriver\u001b[49m\u001b[43m)\u001b[49m\u001b[43m,\u001b[49m\u001b[43m \u001b[49m\u001b[43moptions\u001b[49m\u001b[38;5;241;43m=\u001b[39;49m\u001b[43moptions\u001b[49m\u001b[43m)\u001b[49m\n\u001b[1;32m     16\u001b[0m \u001b[38;5;66;03m# Navigate to Twitter\u001b[39;00m\n\u001b[1;32m     17\u001b[0m driver\u001b[38;5;241m.\u001b[39mget(\u001b[38;5;124m'\u001b[39m\u001b[38;5;124mhttps://twitter.com/\u001b[39m\u001b[38;5;124m'\u001b[39m)\n",
      "\u001b[0;31mTypeError\u001b[0m: __init__() got an unexpected keyword argument 'service'"
     ]
    }
   ],
   "source": [
    "from selenium import webdriver\n",
    "from selenium.webdriver.chrome.service import Service\n",
    "from selenium.webdriver.common.by import By\n",
    "from selenium.webdriver.chrome.options import Options\n",
    "\n",
    "# Configure Selenium options\n",
    "options = Options()\n",
    "options.add_argument(\"--headless\")  # Run Chrome in headless mode\n",
    "\n",
    "# Set path to chromedriver executable\n",
    "path_to_chromedriver = '/usr/local/bin/chromedriver'\n",
    "\n",
    "# Create a new instance of the Chrome driver\n",
    "driver = webdriver.Chrome(service=Service(path_to_chromedriver), options=options)\n",
    "\n",
    "# Navigate to Twitter\n",
    "driver.get('https://twitter.com/')\n",
    "\n",
    "# Find the login button and click it (assuming you're not logged in)\n",
    "login_button = driver.find_element(By.LINK_TEXT, 'Log in')\n",
    "login_button.click()\n",
    "\n",
    "# Wait for the login page to load and enter your login credentials\n",
    "username = driver.find_element(By.NAME, 'session[username_or_email]')\n",
    "password = driver.find_element(By.NAME, 'session[password]')\n",
    "\n",
    "username.send_keys('ijzepeda.dev')\n",
    "password.send_keys('V8funELKeR4YQVz')\n",
    "\n",
    "# Submit the login form\n",
    "login_form = driver.find_element(By.XPATH, '//form[@action=\"/sessions\"]')\n",
    "login_form.submit()\n",
    "\n",
    "# Wait for the homepage to load\n",
    "driver.implicitly_wait(10)\n",
    "\n",
    "# Find and click on the search bar\n",
    "search_bar = driver.find_element(By.XPATH, '//input[@aria-label=\"Search query\"]')\n",
    "search_bar.send_keys('your_search_query')\n",
    "search_bar.submit()\n",
    "\n",
    "# Wait for the search results to load\n",
    "driver.implicitly_wait(10)\n",
    "\n",
    "# Find all tweet elements using the provided CSS class\n",
    "tweet_elements = driver.find_elements(By.CLASS_NAME, 'css-1dbjc4n.r-1iusvr4.r-16y2uox')\n",
    "\n",
    "# Print the text content of each tweet\n",
    "for tweet_element in tweet_elements:\n",
    "    print(tweet_element.text)\n",
    "\n",
    "# Quit the browser\n",
    "driver.quit()\n"
   ]
  },
  {
   "cell_type": "code",
   "execution_count": 15,
   "id": "51d20b8a",
   "metadata": {},
   "outputs": [
    {
     "ename": "IndentationError",
     "evalue": "expected an indented block (27215011.py, line 8)",
     "output_type": "error",
     "traceback": [
      "\u001b[0;36m  Cell \u001b[0;32mIn[15], line 8\u001b[0;36m\u001b[0m\n\u001b[0;31m    self.driver = webdriver.Chrome('./chromedriver')\u001b[0m\n\u001b[0m    ^\u001b[0m\n\u001b[0;31mIndentationError\u001b[0m\u001b[0;31m:\u001b[0m expected an indented block\n"
     ]
    }
   ],
   "source": [
    "import unittest\n",
    "from selenium import webdriver\n",
    "from selenium.webdriver.common.keys import Keys\n",
    "\n",
    "class ChromeSearch(unittest.TestCase):\n",
    "\n",
    "    def setUp(self):\n",
    "    self.driver = webdriver.Chrome('./chromedriver')\n",
    "\n",
    "    def test_search_in_python_org(self):\n",
    "        driver = self.driver\n",
    "        driver.get(\"https://www.python.org\")\n",
    "        self.assertIn(\"Python\", driver.title)\n",
    "        elem = driver.find_element_by_name(\"q\")\n",
    "        elem.send_keys(\"getting started with python\")\n",
    "        elem.send_keys(Keys.RETURN)\n",
    "        assert \"https://www.python.org/search/?q=getting+started+with+python&submit=\" == driver.current_url\n",
    "\n",
    "    def tearDown(self):\n",
    "        self.driver.close()\n",
    "\n",
    "    if __name__ == \"__main__\":\n",
    "    unittest.main()"
   ]
  },
  {
   "cell_type": "code",
   "execution_count": null,
   "id": "2da468bd",
   "metadata": {},
   "outputs": [],
   "source": []
  }
 ],
 "metadata": {
  "kernelspec": {
   "display_name": "Python 3 (ipykernel)",
   "language": "python",
   "name": "python3"
  },
  "language_info": {
   "codemirror_mode": {
    "name": "ipython",
    "version": 3
   },
   "file_extension": ".py",
   "mimetype": "text/x-python",
   "name": "python",
   "nbconvert_exporter": "python",
   "pygments_lexer": "ipython3",
   "version": "3.9.12"
  }
 },
 "nbformat": 4,
 "nbformat_minor": 5
}
