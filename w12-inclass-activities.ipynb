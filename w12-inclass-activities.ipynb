{
 "cells": [
  {
   "cell_type": "markdown",
   "id": "46d39e1d",
   "metadata": {},
   "source": [
    "# Ivan Zepeda\n",
    "C0883949\n"
   ]
  },
  {
   "cell_type": "code",
   "execution_count": null,
   "id": "2d17d716",
   "metadata": {},
   "outputs": [],
   "source": []
  },
  {
   "cell_type": "code",
   "execution_count": null,
   "id": "8d716c30",
   "metadata": {},
   "outputs": [],
   "source": []
  },
  {
   "cell_type": "raw",
   "id": "baa1f314",
   "metadata": {},
   "source": [
    "Briefly explain each measure:\n",
    "    1- Mean, median, model , application of each in data mining\n",
    "    2- Standar Deviation\n",
    "    3- First and Third quartiles\n",
    "    4- Skewness and its formulas\n",
    "    5- kurtosis\n",
    "calculate, median ,mean, mode, std, 1st quartile, and 3rd quartile=>\n",
    "nums=[18,18,19,24,25,27,38,49,50,51]"
   ]
  },
  {
   "cell_type": "markdown",
   "id": "66b3bb31",
   "metadata": {},
   "source": [
    "Sure, I'd be happy to explain each measure briefly:\n",
    "\n",
    "1. **Mean, Median, Mode, and their application in data mining:**\n",
    "   - Mean: The mean is the average value of a dataset and is calculated by summing all values and dividing by the number of data points. It provides a measure of central tendency and is sensitive to extreme values.\n",
    "   - Median: The median is the middle value when the data is arranged in ascending or descending order. It's less affected by extreme values, making it a robust measure of central tendency.\n",
    "   - Mode: The mode is the value that occurs most frequently in a dataset. It's useful in identifying the most common elements in a dataset. In data mining, these measures help summarize the central tendency of data and assist in understanding the dataset's distribution and characteristics.\n",
    "\n",
    "2. **Standard Deviation:**\n",
    "   - Standard Deviation (SD) is a measure of the dispersion or spread of data points around the mean. It quantifies the amount of variation or uncertainty in a dataset. A higher standard deviation indicates more spread-out data, while a lower value means the data points are close to the mean. In data mining, SD helps assess the variability in data and is used in various statistical models and algorithms.\n",
    "\n",
    "3. **First and Third Quartiles:**\n",
    "   - Quartiles divide a dataset into four equal parts. The first quartile (Q1) is the value below which the lowest 25% of the data lies. The third quartile (Q3) is the value below which the lowest 75% of the data lies. The second quartile is the same as the median (50th percentile). In data mining, quartiles are used to understand the distribution and identify potential outliers.\n",
    "\n",
    "4. **Skewness and its formulas:**\n",
    "   - Skewness measures the asymmetry of a probability distribution. It indicates the lack of symmetry in the data. Positive skewness means the tail of the distribution extends to the right, while negative skewness means the tail extends to the left.\n",
    "   - Pearson's First Coefficient of Skewness: (3 * (Mean - Median)) / Standard Deviation\n",
    "   - Pearson's Second Coefficient of Skewness: (Mean - Mode) / Standard Deviation\n",
    "   In data mining, skewness helps identify the shape of the data distribution and is important in understanding the data's characteristics.\n",
    "\n",
    "5. **Kurtosis:**\n",
    "   - Kurtosis measures the shape of the probability distribution. It quantifies whether the data has heavy tails (leptokurtic) or light tails (platykurtic) compared to a normal distribution. \n",
    "   - Kurtosis Formula: [(Σ(Xi - Mean)^4) / N] / (Standard Deviation)^4 - 3\n",
    "   In data mining, kurtosis helps in identifying the presence of outliers and the degree of peakedness or flatness in the distribution."
   ]
  },
  {
   "cell_type": "code",
   "execution_count": 2,
   "id": "84b361af",
   "metadata": {},
   "outputs": [
    {
     "name": "stdout",
     "output_type": "stream",
     "text": [
      "Median 27\n",
      "Mode 18\n",
      "Mean 31.9\n",
      "std 13.072490198887127\n",
      "\n"
     ]
    }
   ],
   "source": [
    "# calculate, median ,mean, mode, std, 1st quartile, and 3rd quartile=>\n",
    "import numpy as np\n",
    "import pandas as pd\n",
    "nums=[18,18,19,24,25,27,38,49,50,51]\n",
    "print(\"Median\", (nums[len(nums)//2]))\n",
    "print(\"Mode\",18)\n",
    "print(\"Mean\", (sum(nums)/len(nums)))\n",
    "print(\"std\", np.std(nums))\n",
    "print(\"\")\n"
   ]
  },
  {
   "cell_type": "code",
   "execution_count": null,
   "id": "3a1dfeed",
   "metadata": {},
   "outputs": [],
   "source": []
  }
 ],
 "metadata": {
  "kernelspec": {
   "display_name": "Python 3 (ipykernel)",
   "language": "python",
   "name": "python3"
  },
  "language_info": {
   "codemirror_mode": {
    "name": "ipython",
    "version": 3
   },
   "file_extension": ".py",
   "mimetype": "text/x-python",
   "name": "python",
   "nbconvert_exporter": "python",
   "pygments_lexer": "ipython3",
   "version": "3.9.12"
  }
 },
 "nbformat": 4,
 "nbformat_minor": 5
}
