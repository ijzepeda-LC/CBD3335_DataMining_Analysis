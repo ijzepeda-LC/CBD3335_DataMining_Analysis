{
 "cells": [
  {
   "cell_type": "markdown",
   "id": "b8e55340",
   "metadata": {},
   "source": [
    "# Ivan Zepeda\n",
    "## C0883949\n",
    "inclass activity - 1\n"
   ]
  },
  {
   "cell_type": "markdown",
   "id": "427c7ebe",
   "metadata": {},
   "source": [
    "- Beginning Questions\n",
    "\n",
    "### 1- **Clustering algorithms can be classified in different ways mention some of these categories and briegly explain each**  \n",
    "\n",
    "    Partition-based Clustering:\n",
    "Partition-based clustering algorithms aim to partition the dataset into distinct non-overlapping clusters. Examples include k-means, k-medoids (PAM), and fuzzy c-means. These algorithms typically require the number of clusters to be predefined.\n",
    "\n",
    "    Hierarchical Clustering:\n",
    "Hierarchical clustering algorithms create a hierarchical decomposition of the dataset by recursively dividing or merging clusters. They can be agglomerative (bottom-up) or divisive (top-down). Agglomerative algorithms start with each instance as a separate cluster and merge them iteratively, while divisive algorithms begin with one cluster containing all instances and split them recursively.\n",
    "\n",
    "    Density-based Clustering:\n",
    "Density-based clustering algorithms group instances based on their density in the data space. They identify regions of high density as clusters and separate them by regions of low density. Density-based spatial clustering of applications with noise (DBSCAN) and OPTICS are common density-based algorithms.\n",
    "\n",
    "    Model-based Clustering:\n",
    "Model-based clustering algorithms assume that the data is generated from a mixture of probability distributions. These algorithms estimate the parameters of the distribution(s) to identify clusters. Gaussian mixture models (GMM) and expectation-maximization (EM) algorithm are popular model-based clustering methods.\n",
    "\n",
    "    Subspace Clustering:\n",
    "Subspace clustering algorithms handle datasets where clusters exist in subspaces of the feature space. They aim to find clusters that are not necessarily present in all dimensions but rather in specific subsets of dimensions. Examples include CLIQUE and subspace clustering based on density (SCDBSCAN).\n",
    "\n",
    "    Spectral Clustering:\n",
    "Spectral clustering algorithms use the eigenvectors of a similarity matrix or Laplacian matrix to perform clustering. They convert the clustering problem into a graph partitioning problem, where instances are nodes and edges represent the similarity between instances. Spectral clustering can be effective for non-convex and nonlinear clusters.\n",
    "\n",
    "    Constraint-based Clustering:\n",
    "Constraint-based clustering algorithms incorporate domain knowledge or user-defined constraints during the clustering process. These constraints can enforce or prohibit certain instances from being grouped together. COBWEB and ROCK are examples of constraint-based clustering algorithms."
   ]
  },
  {
   "cell_type": "markdown",
   "id": "6b0705af",
   "metadata": {},
   "source": [
    "### 2- **How many steps are involved in applying kmeans clustering? Explain Each**  \n",
    "\n",
    "    Step 1: Initialization\n",
    "\n",
    "Randomly select K cluster centers (centroids) from the dataset, where K is the predefined number of clusters.\n",
    "Alternatively, the initial centroids can be chosen using other heuristics like k-means++.\n",
    "\n",
    "    Step 2: Assignment\n",
    "\n",
    "For each instance in the dataset, calculate the distance between the instance and each centroid.\n",
    "Assign the instance to the nearest centroid, forming K clusters.\n",
    "\n",
    "    Step 3: Update\n",
    "\n",
    "Recalculate the centroids of the clusters by taking the mean (average) of the instances belonging to each cluster.\n",
    "This step aims to find new cluster centers that better represent the data.\n",
    "    \n",
    "    Step 4: Convergence Check\n",
    "\n",
    "Check if the algorithm has converged by comparing the new centroids with the previous centroids.\n",
    "If the centroids have not changed significantly or the maximum number of iterations is reached, the algorithm terminates.\n",
    "Otherwise, go back to Step 2 and repeat the assignment and update steps.\n",
    "    \n",
    "    Step 5: Output\n",
    "\n",
    "Once the algorithm converges, the final clusters and their corresponding centroids are obtained.\n",
    "The algorithm assigns each instance to one of the K clusters, and the centroids represent the center of each cluster.\n",
    "The resulting clusters can be analyzed and interpreted based on the problem domain."
   ]
  },
  {
   "cell_type": "markdown",
   "id": "a76edb58",
   "metadata": {},
   "source": [
    "### 3- **Mention 3 methods for specifying k in kmeans**  \n",
    "\n",
    "    Elbow Method:\n",
    "\n",
    "The elbow method is a heuristic approach to estimate the optimal k value by analyzing the relationship between the number of clusters and the within-cluster sum of squares (WCSS).\n",
    "In this method, you perform k-means clustering for a range of k values and calculate the WCSS for each clustering result.\n",
    "Plot the WCSS against the number of clusters and look for the \"elbow\" point in the plot, which is the point where the reduction in WCSS starts to diminish significantly.\n",
    "The k value corresponding to the elbow point is often considered a reasonable choice for the number of clusters.\n",
    "    \n",
    "    Silhouette Coefficient:\n",
    "\n",
    "The silhouette coefficient is a measure of how well instances belong to their assigned cluster compared to other clusters.\n",
    "For different values of k, calculate the average silhouette coefficient across all instances in the dataset.\n",
    "The value of k that maximizes the average silhouette coefficient is considered a good choice for the number of clusters.\n",
    "A higher silhouette coefficient indicates better-defined clusters with instances that are close to their own cluster and far from other clusters.\n",
    "    \n",
    "    Domain Knowledge or Prior Information:\n",
    "\n",
    "In some cases, domain knowledge or prior information about the data can help determine the appropriate number of clusters.\n",
    "For instance, if you are working with customer segmentation data and have information about distinct customer groups or segments, you can choose k accordingly.\n",
    "Prior knowledge can be obtained from subject-matter experts, historical data, or existing research on similar problems.\n",
    "However, it's important to validate and evaluate the chosen k value using appropriate metrics and techniques.\n"
   ]
  },
  {
   "cell_type": "markdown",
   "id": "de314267",
   "metadata": {},
   "source": [
    "### 4- **How can random initialization affect the performance of kmeans**  \n",
    "\n",
    "    Random initialization can significantly affect the performance of the k-means clustering algorithm. Here are a few ways in which random initialization can impact the results:\n",
    "\n",
    "- Convergence to Local Optima:\n",
    "\n",
    "K-means aims to minimize the within-cluster sum of squares (WCSS) by iteratively updating the centroids. However, the algorithm can get stuck in local optima.\n",
    "Random initialization affects the starting points of the centroids, and different initializations can lead to different final clustering results.\n",
    "If the initial centroids are poorly chosen, the algorithm may converge to a suboptimal clustering solution that does not accurately represent the underlying structure of the data.\n",
    "\n",
    "- Sensitivity to Outliers:\n",
    "\n",
    "Random initialization can make the algorithm sensitive to outliers or noise in the dataset.\n",
    "If an initial centroid is randomly placed near an outlier, it can attract instances that do not belong to the main clusters, leading to distorted cluster boundaries and inaccurate results.\n",
    "Reproducibility:\n",
    "\n",
    "Random initialization affects the randomness and variability of the clustering results.\n",
    "Running the k-means algorithm multiple times with different initializations may produce different clustering outcomes.\n",
    "The lack of reproducibility can make it challenging to compare and interpret results across different runs or when working with collaborative research or production environments.\n",
    "To mitigate the issues associated with random initialization, several techniques can be employed:\n",
    "\n",
    "- K-means++ Initialization:\n",
    "\n",
    "K-means++ is a modified initialization method that aims to select initial centroids that are more spread out and representative of the data distribution.\n",
    "It reduces the chances of getting stuck in poor local optima by biasing the selection of initial centroids towards points that are far apart from each other.\n",
    "\n",
    "- Multiple Random Initializations:\n",
    "\n",
    "Running the k-means algorithm multiple times with different random initializations and selecting the best clustering solution based on a chosen criterion, such as the lowest WCSS or highest silhouette coefficient.\n",
    "This approach helps mitigate the impact of random initialization and increases the likelihood of finding a better clustering solution.\n",
    "\n",
    "- Seed Control:\n",
    "\n",
    "Setting a specific seed value for the random number generator used in initialization allows for reproducibility.\n",
    "By using the same seed value across different runs, the same initializations can be generated, resulting in consistent clustering results.\n",
    "By employing appropriate techniques and considering the impact of random initialization, it is possible to improve the stability and reliability of k-means clustering."
   ]
  },
  {
   "cell_type": "markdown",
   "id": "2815c588",
   "metadata": {},
   "source": [
    "# IN CLASS ASSIGNMETN 4 PART A"
   ]
  },
  {
   "cell_type": "code",
   "execution_count": 15,
   "id": "0fa184d3",
   "metadata": {},
   "outputs": [],
   "source": [
    "import pandas as pd\n",
    "import matplotlib.pyplot as plt\n",
    "from sklearn.datasets import make_blobs"
   ]
  },
  {
   "cell_type": "code",
   "execution_count": 14,
   "id": "f594bbf3",
   "metadata": {},
   "outputs": [],
   "source": [
    "df_raw = pd.read_csv('train.csv')"
   ]
  },
  {
   "cell_type": "code",
   "execution_count": 12,
   "id": "ed64147e",
   "metadata": {},
   "outputs": [
    {
     "data": {
      "text/html": [
       "<div>\n",
       "<style scoped>\n",
       "    .dataframe tbody tr th:only-of-type {\n",
       "        vertical-align: middle;\n",
       "    }\n",
       "\n",
       "    .dataframe tbody tr th {\n",
       "        vertical-align: top;\n",
       "    }\n",
       "\n",
       "    .dataframe thead th {\n",
       "        text-align: right;\n",
       "    }\n",
       "</style>\n",
       "<table border=\"1\" class=\"dataframe\">\n",
       "  <thead>\n",
       "    <tr style=\"text-align: right;\">\n",
       "      <th></th>\n",
       "      <th>Id</th>\n",
       "      <th>MSSubClass</th>\n",
       "      <th>MSZoning</th>\n",
       "      <th>LotFrontage</th>\n",
       "      <th>LotArea</th>\n",
       "      <th>Street</th>\n",
       "      <th>Alley</th>\n",
       "      <th>LotShape</th>\n",
       "      <th>LandContour</th>\n",
       "      <th>Utilities</th>\n",
       "      <th>...</th>\n",
       "      <th>PoolArea</th>\n",
       "      <th>PoolQC</th>\n",
       "      <th>Fence</th>\n",
       "      <th>MiscFeature</th>\n",
       "      <th>MiscVal</th>\n",
       "      <th>MoSold</th>\n",
       "      <th>YrSold</th>\n",
       "      <th>SaleType</th>\n",
       "      <th>SaleCondition</th>\n",
       "      <th>SalePrice</th>\n",
       "    </tr>\n",
       "  </thead>\n",
       "  <tbody>\n",
       "    <tr>\n",
       "      <th>0</th>\n",
       "      <td>1</td>\n",
       "      <td>60</td>\n",
       "      <td>RL</td>\n",
       "      <td>65.0</td>\n",
       "      <td>8450</td>\n",
       "      <td>Pave</td>\n",
       "      <td>NaN</td>\n",
       "      <td>Reg</td>\n",
       "      <td>Lvl</td>\n",
       "      <td>AllPub</td>\n",
       "      <td>...</td>\n",
       "      <td>0</td>\n",
       "      <td>NaN</td>\n",
       "      <td>NaN</td>\n",
       "      <td>NaN</td>\n",
       "      <td>0</td>\n",
       "      <td>2</td>\n",
       "      <td>2008</td>\n",
       "      <td>WD</td>\n",
       "      <td>Normal</td>\n",
       "      <td>208500</td>\n",
       "    </tr>\n",
       "    <tr>\n",
       "      <th>1</th>\n",
       "      <td>2</td>\n",
       "      <td>20</td>\n",
       "      <td>RL</td>\n",
       "      <td>80.0</td>\n",
       "      <td>9600</td>\n",
       "      <td>Pave</td>\n",
       "      <td>NaN</td>\n",
       "      <td>Reg</td>\n",
       "      <td>Lvl</td>\n",
       "      <td>AllPub</td>\n",
       "      <td>...</td>\n",
       "      <td>0</td>\n",
       "      <td>NaN</td>\n",
       "      <td>NaN</td>\n",
       "      <td>NaN</td>\n",
       "      <td>0</td>\n",
       "      <td>5</td>\n",
       "      <td>2007</td>\n",
       "      <td>WD</td>\n",
       "      <td>Normal</td>\n",
       "      <td>181500</td>\n",
       "    </tr>\n",
       "    <tr>\n",
       "      <th>2</th>\n",
       "      <td>3</td>\n",
       "      <td>60</td>\n",
       "      <td>RL</td>\n",
       "      <td>68.0</td>\n",
       "      <td>11250</td>\n",
       "      <td>Pave</td>\n",
       "      <td>NaN</td>\n",
       "      <td>IR1</td>\n",
       "      <td>Lvl</td>\n",
       "      <td>AllPub</td>\n",
       "      <td>...</td>\n",
       "      <td>0</td>\n",
       "      <td>NaN</td>\n",
       "      <td>NaN</td>\n",
       "      <td>NaN</td>\n",
       "      <td>0</td>\n",
       "      <td>9</td>\n",
       "      <td>2008</td>\n",
       "      <td>WD</td>\n",
       "      <td>Normal</td>\n",
       "      <td>223500</td>\n",
       "    </tr>\n",
       "    <tr>\n",
       "      <th>3</th>\n",
       "      <td>4</td>\n",
       "      <td>70</td>\n",
       "      <td>RL</td>\n",
       "      <td>60.0</td>\n",
       "      <td>9550</td>\n",
       "      <td>Pave</td>\n",
       "      <td>NaN</td>\n",
       "      <td>IR1</td>\n",
       "      <td>Lvl</td>\n",
       "      <td>AllPub</td>\n",
       "      <td>...</td>\n",
       "      <td>0</td>\n",
       "      <td>NaN</td>\n",
       "      <td>NaN</td>\n",
       "      <td>NaN</td>\n",
       "      <td>0</td>\n",
       "      <td>2</td>\n",
       "      <td>2006</td>\n",
       "      <td>WD</td>\n",
       "      <td>Abnorml</td>\n",
       "      <td>140000</td>\n",
       "    </tr>\n",
       "    <tr>\n",
       "      <th>4</th>\n",
       "      <td>5</td>\n",
       "      <td>60</td>\n",
       "      <td>RL</td>\n",
       "      <td>84.0</td>\n",
       "      <td>14260</td>\n",
       "      <td>Pave</td>\n",
       "      <td>NaN</td>\n",
       "      <td>IR1</td>\n",
       "      <td>Lvl</td>\n",
       "      <td>AllPub</td>\n",
       "      <td>...</td>\n",
       "      <td>0</td>\n",
       "      <td>NaN</td>\n",
       "      <td>NaN</td>\n",
       "      <td>NaN</td>\n",
       "      <td>0</td>\n",
       "      <td>12</td>\n",
       "      <td>2008</td>\n",
       "      <td>WD</td>\n",
       "      <td>Normal</td>\n",
       "      <td>250000</td>\n",
       "    </tr>\n",
       "  </tbody>\n",
       "</table>\n",
       "<p>5 rows × 81 columns</p>\n",
       "</div>"
      ],
      "text/plain": [
       "   Id  MSSubClass MSZoning  LotFrontage  LotArea Street Alley LotShape  \\\n",
       "0   1          60       RL         65.0     8450   Pave   NaN      Reg   \n",
       "1   2          20       RL         80.0     9600   Pave   NaN      Reg   \n",
       "2   3          60       RL         68.0    11250   Pave   NaN      IR1   \n",
       "3   4          70       RL         60.0     9550   Pave   NaN      IR1   \n",
       "4   5          60       RL         84.0    14260   Pave   NaN      IR1   \n",
       "\n",
       "  LandContour Utilities  ... PoolArea PoolQC Fence MiscFeature MiscVal MoSold  \\\n",
       "0         Lvl    AllPub  ...        0    NaN   NaN         NaN       0      2   \n",
       "1         Lvl    AllPub  ...        0    NaN   NaN         NaN       0      5   \n",
       "2         Lvl    AllPub  ...        0    NaN   NaN         NaN       0      9   \n",
       "3         Lvl    AllPub  ...        0    NaN   NaN         NaN       0      2   \n",
       "4         Lvl    AllPub  ...        0    NaN   NaN         NaN       0     12   \n",
       "\n",
       "  YrSold  SaleType  SaleCondition  SalePrice  \n",
       "0   2008        WD         Normal     208500  \n",
       "1   2007        WD         Normal     181500  \n",
       "2   2008        WD         Normal     223500  \n",
       "3   2006        WD        Abnorml     140000  \n",
       "4   2008        WD         Normal     250000  \n",
       "\n",
       "[5 rows x 81 columns]"
      ]
     },
     "execution_count": 12,
     "metadata": {},
     "output_type": "execute_result"
    }
   ],
   "source": [
    "# salePrice , lotArea\n",
    "df_raw.head()"
   ]
  },
  {
   "cell_type": "code",
   "execution_count": 82,
   "id": "d8164eb2",
   "metadata": {},
   "outputs": [
    {
     "data": {
      "text/html": [
       "<div>\n",
       "<style scoped>\n",
       "    .dataframe tbody tr th:only-of-type {\n",
       "        vertical-align: middle;\n",
       "    }\n",
       "\n",
       "    .dataframe tbody tr th {\n",
       "        vertical-align: top;\n",
       "    }\n",
       "\n",
       "    .dataframe thead th {\n",
       "        text-align: right;\n",
       "    }\n",
       "</style>\n",
       "<table border=\"1\" class=\"dataframe\">\n",
       "  <thead>\n",
       "    <tr style=\"text-align: right;\">\n",
       "      <th></th>\n",
       "      <th>SalePrice</th>\n",
       "      <th>LotArea</th>\n",
       "    </tr>\n",
       "  </thead>\n",
       "  <tbody>\n",
       "    <tr>\n",
       "      <th>0</th>\n",
       "      <td>208500</td>\n",
       "      <td>8450</td>\n",
       "    </tr>\n",
       "    <tr>\n",
       "      <th>1</th>\n",
       "      <td>181500</td>\n",
       "      <td>9600</td>\n",
       "    </tr>\n",
       "    <tr>\n",
       "      <th>2</th>\n",
       "      <td>223500</td>\n",
       "      <td>11250</td>\n",
       "    </tr>\n",
       "    <tr>\n",
       "      <th>3</th>\n",
       "      <td>140000</td>\n",
       "      <td>9550</td>\n",
       "    </tr>\n",
       "    <tr>\n",
       "      <th>4</th>\n",
       "      <td>250000</td>\n",
       "      <td>14260</td>\n",
       "    </tr>\n",
       "  </tbody>\n",
       "</table>\n",
       "</div>"
      ],
      "text/plain": [
       "   SalePrice  LotArea\n",
       "0     208500     8450\n",
       "1     181500     9600\n",
       "2     223500    11250\n",
       "3     140000     9550\n",
       "4     250000    14260"
      ]
     },
     "execution_count": 82,
     "metadata": {},
     "output_type": "execute_result"
    }
   ],
   "source": [
    "# df = df_raw.select_dtypes(include='number')\n",
    "\n",
    "df = df_raw[['SalePrice','LotArea']]\n",
    "\n",
    "df.head()"
   ]
  },
  {
   "cell_type": "code",
   "execution_count": 80,
   "id": "c13a8b10",
   "metadata": {},
   "outputs": [],
   "source": [
    "# Create a blob of 200 data points\n",
    "\n",
    "dataset = make_blobs(n_samples = 200, \n",
    "                    n_features= 2,\n",
    "                    centers=4,\n",
    "                    cluster_std=1.6,\n",
    "                    random_state=50)\n",
    "\n",
    "points = dataset[0]\n"
   ]
  },
  {
   "cell_type": "code",
   "execution_count": 50,
   "id": "bd4ae801",
   "metadata": {},
   "outputs": [],
   "source": [
    "import scipy.cluster.hierarchy as sch\n",
    "from sklearn.cluster import AgglomerativeClustering\n"
   ]
  },
  {
   "cell_type": "code",
   "execution_count": 51,
   "id": "b877fdf9",
   "metadata": {},
   "outputs": [
    {
     "data": {
      "image/png": "[encoded data removed]",
      "text/plain": [
       "<Figure size 640x480 with 1 Axes>"
      ]
     },
     "metadata": {},
     "output_type": "display_data"
    }
   ],
   "source": [
    "dendrogram = sch.dendrogram(sch.linkage(points, method='ward'))"
   ]
  },
  {
   "cell_type": "code",
   "execution_count": 52,
   "id": "b664395f",
   "metadata": {},
   "outputs": [
    {
     "data": {
      "text/plain": [
       "<matplotlib.collections.PathCollection at 0x7f7f4c99a760>"
      ]
     },
     "execution_count": 52,
     "metadata": {},
     "output_type": "execute_result"
    },
    {
     "data": {
      "image/png": "[encoded data removed]",
      "text/plain": [
       "<Figure size 640x480 with 1 Axes>"
      ]
     },
     "metadata": {},
     "output_type": "display_data"
    }
   ],
   "source": [
    "plt.scatter(dataset[0][:,0], dataset[0][:,1])"
   ]
  },
  {
   "cell_type": "code",
   "execution_count": 53,
   "id": "585761e5",
   "metadata": {},
   "outputs": [],
   "source": [
    "# Perform the actual clustering\n",
    "hc= AgglomerativeClustering(n_clusters=4, affinity = 'euclidean', linkage='ward')\n"
   ]
  },
  {
   "cell_type": "code",
   "execution_count": 54,
   "id": "12f39210",
   "metadata": {},
   "outputs": [],
   "source": [
    "y_hc = hc.fit_predict(points)"
   ]
  },
  {
   "cell_type": "code",
   "execution_count": 83,
   "id": "47733fe8",
   "metadata": {},
   "outputs": [
    {
     "data": {
      "text/plain": [
       "<matplotlib.collections.PathCollection at 0x7f7f51bb8040>"
      ]
     },
     "execution_count": 83,
     "metadata": {},
     "output_type": "execute_result"
    },
    {
     "data": {
      "image/png": "[encoded data removed]",
      "text/plain": [
       "<Figure size 640x480 with 1 Axes>"
      ]
     },
     "metadata": {},
     "output_type": "display_data"
    }
   ],
   "source": [
    "plt.scatter(points[y_hc == 0,0], points[y_hc == 0,1], s=100, c='cyan')\n",
    "plt.scatter(points[y_hc == 1,0], points[y_hc == 1,1], s=100, c='magenta')\n",
    "plt.scatter(points[y_hc == 2,0], points[y_hc == 2,1], s=100, c='green')\n",
    "plt.scatter(points[y_hc == 3,0], points[y_hc == 3,1], s=100, c='yellow')\n",
    "\n",
    "#Centroids\n"
   ]
  },
  {
   "cell_type": "markdown",
   "id": "1815601c",
   "metadata": {},
   "source": [
    "# Second video\n",
    "\n",
    "\n",
    "## Hierarchical Clustering`\n",
    "Distances Metrics: Euclidean, Manhattan, Cosine  \n",
    "Linkage Parametes: Ward, Completer, Average\n",
    "\n"
   ]
  },
  {
   "cell_type": "code",
   "execution_count": 35,
   "id": "8a2ad5ae",
   "metadata": {},
   "outputs": [],
   "source": [
    "import numpy as np\n",
    "import scipy\n",
    "from scipy.cluster.hierarchy import dendrogram, linkage\n",
    "from scipy.cluster.hierarchy import fcluster\n",
    "from scipy.cluster.hierarchy import cophenet\n",
    "# from scipy.spatial.distance import dist\n",
    "\n",
    "from pylab import rcParams\n",
    "import seaborn as sb\n",
    "import matplotlib.pyplot as plt\n",
    "\n",
    "import sklearn \n",
    "from sklearn.cluster import AgglomerativeClustering\n",
    "import sklearn.metrics as sm"
   ]
  },
  {
   "cell_type": "code",
   "execution_count": 38,
   "id": "77f1afc2",
   "metadata": {},
   "outputs": [],
   "source": [
    "np.set_printoptions(precision=4, suppress = True)\n",
    "plt.figure(figsize=(10,3))\n",
    "%matplotlib inline\n",
    "plt.style.use('seaborn-whitegrid')\n",
    "\n"
   ]
  },
  {
   "cell_type": "code",
   "execution_count": 69,
   "id": "51a85450",
   "metadata": {},
   "outputs": [
    {
     "data": {
      "text/html": [
       "<div>\n",
       "<style scoped>\n",
       "    .dataframe tbody tr th:only-of-type {\n",
       "        vertical-align: middle;\n",
       "    }\n",
       "\n",
       "    .dataframe tbody tr th {\n",
       "        vertical-align: top;\n",
       "    }\n",
       "\n",
       "    .dataframe thead th {\n",
       "        text-align: right;\n",
       "    }\n",
       "</style>\n",
       "<table border=\"1\" class=\"dataframe\">\n",
       "  <thead>\n",
       "    <tr style=\"text-align: right;\">\n",
       "      <th></th>\n",
       "      <th>Id</th>\n",
       "      <th>MSSubClass</th>\n",
       "      <th>LotFrontage</th>\n",
       "      <th>LotArea</th>\n",
       "      <th>OverallQual</th>\n",
       "      <th>OverallCond</th>\n",
       "      <th>YearBuilt</th>\n",
       "      <th>YearRemodAdd</th>\n",
       "      <th>MasVnrArea</th>\n",
       "      <th>BsmtFinSF1</th>\n",
       "      <th>...</th>\n",
       "      <th>WoodDeckSF</th>\n",
       "      <th>OpenPorchSF</th>\n",
       "      <th>EnclosedPorch</th>\n",
       "      <th>3SsnPorch</th>\n",
       "      <th>ScreenPorch</th>\n",
       "      <th>PoolArea</th>\n",
       "      <th>MiscVal</th>\n",
       "      <th>MoSold</th>\n",
       "      <th>YrSold</th>\n",
       "      <th>SalePrice</th>\n",
       "    </tr>\n",
       "  </thead>\n",
       "  <tbody>\n",
       "    <tr>\n",
       "      <th>0</th>\n",
       "      <td>1</td>\n",
       "      <td>60</td>\n",
       "      <td>65.0</td>\n",
       "      <td>8450</td>\n",
       "      <td>7</td>\n",
       "      <td>5</td>\n",
       "      <td>2003</td>\n",
       "      <td>2003</td>\n",
       "      <td>196.0</td>\n",
       "      <td>706</td>\n",
       "      <td>...</td>\n",
       "      <td>0</td>\n",
       "      <td>61</td>\n",
       "      <td>0</td>\n",
       "      <td>0</td>\n",
       "      <td>0</td>\n",
       "      <td>0</td>\n",
       "      <td>0</td>\n",
       "      <td>2</td>\n",
       "      <td>2008</td>\n",
       "      <td>208500</td>\n",
       "    </tr>\n",
       "    <tr>\n",
       "      <th>1</th>\n",
       "      <td>2</td>\n",
       "      <td>20</td>\n",
       "      <td>80.0</td>\n",
       "      <td>9600</td>\n",
       "      <td>6</td>\n",
       "      <td>8</td>\n",
       "      <td>1976</td>\n",
       "      <td>1976</td>\n",
       "      <td>0.0</td>\n",
       "      <td>978</td>\n",
       "      <td>...</td>\n",
       "      <td>298</td>\n",
       "      <td>0</td>\n",
       "      <td>0</td>\n",
       "      <td>0</td>\n",
       "      <td>0</td>\n",
       "      <td>0</td>\n",
       "      <td>0</td>\n",
       "      <td>5</td>\n",
       "      <td>2007</td>\n",
       "      <td>181500</td>\n",
       "    </tr>\n",
       "    <tr>\n",
       "      <th>2</th>\n",
       "      <td>3</td>\n",
       "      <td>60</td>\n",
       "      <td>68.0</td>\n",
       "      <td>11250</td>\n",
       "      <td>7</td>\n",
       "      <td>5</td>\n",
       "      <td>2001</td>\n",
       "      <td>2002</td>\n",
       "      <td>162.0</td>\n",
       "      <td>486</td>\n",
       "      <td>...</td>\n",
       "      <td>0</td>\n",
       "      <td>42</td>\n",
       "      <td>0</td>\n",
       "      <td>0</td>\n",
       "      <td>0</td>\n",
       "      <td>0</td>\n",
       "      <td>0</td>\n",
       "      <td>9</td>\n",
       "      <td>2008</td>\n",
       "      <td>223500</td>\n",
       "    </tr>\n",
       "    <tr>\n",
       "      <th>3</th>\n",
       "      <td>4</td>\n",
       "      <td>70</td>\n",
       "      <td>60.0</td>\n",
       "      <td>9550</td>\n",
       "      <td>7</td>\n",
       "      <td>5</td>\n",
       "      <td>1915</td>\n",
       "      <td>1970</td>\n",
       "      <td>0.0</td>\n",
       "      <td>216</td>\n",
       "      <td>...</td>\n",
       "      <td>0</td>\n",
       "      <td>35</td>\n",
       "      <td>272</td>\n",
       "      <td>0</td>\n",
       "      <td>0</td>\n",
       "      <td>0</td>\n",
       "      <td>0</td>\n",
       "      <td>2</td>\n",
       "      <td>2006</td>\n",
       "      <td>140000</td>\n",
       "    </tr>\n",
       "    <tr>\n",
       "      <th>4</th>\n",
       "      <td>5</td>\n",
       "      <td>60</td>\n",
       "      <td>84.0</td>\n",
       "      <td>14260</td>\n",
       "      <td>8</td>\n",
       "      <td>5</td>\n",
       "      <td>2000</td>\n",
       "      <td>2000</td>\n",
       "      <td>350.0</td>\n",
       "      <td>655</td>\n",
       "      <td>...</td>\n",
       "      <td>192</td>\n",
       "      <td>84</td>\n",
       "      <td>0</td>\n",
       "      <td>0</td>\n",
       "      <td>0</td>\n",
       "      <td>0</td>\n",
       "      <td>0</td>\n",
       "      <td>12</td>\n",
       "      <td>2008</td>\n",
       "      <td>250000</td>\n",
       "    </tr>\n",
       "  </tbody>\n",
       "</table>\n",
       "<p>5 rows × 38 columns</p>\n",
       "</div>"
      ],
      "text/plain": [
       "   Id  MSSubClass  LotFrontage  LotArea  OverallQual  OverallCond  YearBuilt  \\\n",
       "0   1          60         65.0     8450            7            5       2003   \n",
       "1   2          20         80.0     9600            6            8       1976   \n",
       "2   3          60         68.0    11250            7            5       2001   \n",
       "3   4          70         60.0     9550            7            5       1915   \n",
       "4   5          60         84.0    14260            8            5       2000   \n",
       "\n",
       "   YearRemodAdd  MasVnrArea  BsmtFinSF1  ...  WoodDeckSF  OpenPorchSF  \\\n",
       "0          2003       196.0         706  ...           0           61   \n",
       "1          1976         0.0         978  ...         298            0   \n",
       "2          2002       162.0         486  ...           0           42   \n",
       "3          1970         0.0         216  ...           0           35   \n",
       "4          2000       350.0         655  ...         192           84   \n",
       "\n",
       "   EnclosedPorch  3SsnPorch  ScreenPorch  PoolArea  MiscVal  MoSold  YrSold  \\\n",
       "0              0          0            0         0        0       2    2008   \n",
       "1              0          0            0         0        0       5    2007   \n",
       "2              0          0            0         0        0       9    2008   \n",
       "3            272          0            0         0        0       2    2006   \n",
       "4              0          0            0         0        0      12    2008   \n",
       "\n",
       "   SalePrice  \n",
       "0     208500  \n",
       "1     181500  \n",
       "2     223500  \n",
       "3     140000  \n",
       "4     250000  \n",
       "\n",
       "[5 rows x 38 columns]"
      ]
     },
     "execution_count": 69,
     "metadata": {},
     "output_type": "execute_result"
    }
   ],
   "source": [
    "df.head()"
   ]
  },
  {
   "cell_type": "code",
   "execution_count": 74,
   "id": "c0d574b9",
   "metadata": {},
   "outputs": [
    {
     "data": {
      "text/plain": [
       "Index(['Id', 'MSSubClass', 'LotFrontage', 'LotArea', 'OverallQual',\n",
       "       'OverallCond', 'YearBuilt', 'YearRemodAdd', 'MasVnrArea', 'BsmtFinSF1',\n",
       "       'BsmtFinSF2', 'BsmtUnfSF', 'TotalBsmtSF', '1stFlrSF', '2ndFlrSF',\n",
       "       'LowQualFinSF', 'GrLivArea', 'BsmtFullBath', 'BsmtHalfBath', 'FullBath',\n",
       "       'HalfBath', 'BedroomAbvGr', 'KitchenAbvGr', 'TotRmsAbvGrd',\n",
       "       'Fireplaces', 'GarageYrBlt', 'GarageCars', 'GarageArea', 'WoodDeckSF',\n",
       "       'OpenPorchSF', 'EnclosedPorch', '3SsnPorch', 'ScreenPorch', 'PoolArea',\n",
       "       'MiscVal', 'MoSold', 'YrSold', 'SalePrice'],\n",
       "      dtype='object')"
      ]
     },
     "execution_count": 74,
     "metadata": {},
     "output_type": "execute_result"
    }
   ],
   "source": [
    "cols"
   ]
  },
  {
   "cell_type": "code",
   "execution_count": 77,
   "id": "960ea3d5",
   "metadata": {},
   "outputs": [
    {
     "ename": "AttributeError",
     "evalue": "'Index' object has no attribute 'remove'",
     "output_type": "error",
     "traceback": [
      "\u001b[0;31m---------------------------------------------------------------------------\u001b[0m",
      "\u001b[0;31mAttributeError\u001b[0m                            Traceback (most recent call last)",
      "Cell \u001b[0;32mIn[77], line 3\u001b[0m\n\u001b[1;32m      1\u001b[0m cols\u001b[38;5;241m=\u001b[39mdf\u001b[38;5;241m.\u001b[39mcolumns\n\u001b[1;32m      2\u001b[0m Y\u001b[38;5;241m=\u001b[39mdf[\u001b[38;5;124m'\u001b[39m\u001b[38;5;124mSalePrice\u001b[39m\u001b[38;5;124m'\u001b[39m]\n\u001b[0;32m----> 3\u001b[0m \u001b[43mcols\u001b[49m\u001b[38;5;241;43m.\u001b[39;49m\u001b[43mremove\u001b[49m(\u001b[38;5;124m'\u001b[39m\u001b[38;5;124mSalePrice\u001b[39m\u001b[38;5;124m'\u001b[39m)\n\u001b[1;32m      4\u001b[0m X\u001b[38;5;241m=\u001b[39m df[cols]\n\u001b[1;32m      6\u001b[0m Z \u001b[38;5;241m=\u001b[39m linkage(X, \u001b[38;5;124m'\u001b[39m\u001b[38;5;124mward\u001b[39m\u001b[38;5;124m'\u001b[39m)\n",
      "\u001b[0;31mAttributeError\u001b[0m: 'Index' object has no attribute 'remove'"
     ]
    }
   ],
   "source": [
    "cols=df.columns\n",
    "Y=df['SalePrice']\n",
    "cols.remove('SalePrice')\n",
    "X= df[cols]\n",
    "\n",
    "Z = linkage(X, 'ward')"
   ]
  },
  {
   "cell_type": "code",
   "execution_count": 60,
   "id": "193604e1",
   "metadata": {},
   "outputs": [],
   "source": [
    "\n",
    "X = np.array([df['LotArea'], df['SalePrice']]).T\n",
    "Z = linkage(X, 'ward')"
   ]
  },
  {
   "cell_type": "code",
   "execution_count": 61,
   "id": "2a3ecdce",
   "metadata": {},
   "outputs": [
    {
     "ename": "TypeError",
     "evalue": "'dict' object is not callable",
     "output_type": "error",
     "traceback": [
      "\u001b[0;31m---------------------------------------------------------------------------\u001b[0m",
      "\u001b[0;31mTypeError\u001b[0m                                 Traceback (most recent call last)",
      "Cell \u001b[0;32mIn[61], line 1\u001b[0m\n\u001b[0;32m----> 1\u001b[0m \u001b[43mdendrogram\u001b[49m\u001b[43m(\u001b[49m\u001b[43mZ\u001b[49m\u001b[43m,\u001b[49m\u001b[43m \u001b[49m\u001b[43mtruncate_mode\u001b[49m\u001b[43m \u001b[49m\u001b[38;5;241;43m=\u001b[39;49m\u001b[43m \u001b[49m\u001b[38;5;124;43m'\u001b[39;49m\u001b[38;5;124;43mlastp\u001b[39;49m\u001b[38;5;124;43m'\u001b[39;49m\u001b[43m,\u001b[49m\u001b[43m \u001b[49m\u001b[43mp\u001b[49m\u001b[38;5;241;43m=\u001b[39;49m\u001b[38;5;241;43m12\u001b[39;49m\u001b[43m,\u001b[49m\u001b[43m \u001b[49m\u001b[43mleaf_rotation\u001b[49m\u001b[38;5;241;43m=\u001b[39;49m\u001b[38;5;241;43m45.\u001b[39;49m\u001b[43m,\u001b[49m\u001b[43m \u001b[49m\u001b[43mleaf_font_size\u001b[49m\u001b[38;5;241;43m=\u001b[39;49m\u001b[38;5;241;43m15.\u001b[39;49m\u001b[43m,\u001b[49m\u001b[43m \u001b[49m\u001b[43mshow_concatenated\u001b[49m\u001b[38;5;241;43m=\u001b[39;49m\u001b[38;5;28;43;01mTrue\u001b[39;49;00m\u001b[43m \u001b[49m\u001b[43m)\u001b[49m\n\u001b[1;32m      2\u001b[0m plt\u001b[38;5;241m.\u001b[39mtitle(\u001b[38;5;124m\"\u001b[39m\u001b[38;5;124mTruncated Hierarchical Clustering dendrogram\u001b[39m\u001b[38;5;124m\"\u001b[39m)\n\u001b[1;32m      3\u001b[0m plt\u001b[38;5;241m.\u001b[39mxlabel(\u001b[38;5;124m'\u001b[39m\u001b[38;5;124mCluster Size\u001b[39m\u001b[38;5;124m'\u001b[39m)\n",
      "\u001b[0;31mTypeError\u001b[0m: 'dict' object is not callable"
     ]
    }
   ],
   "source": [
    "dendrogram(Z, truncate_mode = 'lastp', p=12, leaf_rotation=45., leaf_font_size=15., show_concatenated=True )\n",
    "plt.title(\"Truncated Hierarchical Clustering dendrogram\")\n",
    "plt.xlabel('Cluster Size')\n",
    "plt.ylabel(\"Distance\")\n",
    "plt.axhline(y=500)\n",
    "plt.axhline(y=150)\n",
    "\n",
    "plt.show()"
   ]
  },
  {
   "cell_type": "code",
   "execution_count": null,
   "id": "ac45e093",
   "metadata": {},
   "outputs": [],
   "source": []
  }
 ],
 "metadata": {
  "kernelspec": {
   "display_name": "Python 3 (ipykernel)",
   "language": "python",
   "name": "python3"
  },
  "language_info": {
   "codemirror_mode": {
    "name": "ipython",
    "version": 3
   },
   "file_extension": ".py",
   "mimetype": "text/x-python",
   "name": "python",
   "nbconvert_exporter": "python",
   "pygments_lexer": "ipython3",
   "version": "3.9.12"
  }
 },
 "nbformat": 4,
 "nbformat_minor": 5
}
