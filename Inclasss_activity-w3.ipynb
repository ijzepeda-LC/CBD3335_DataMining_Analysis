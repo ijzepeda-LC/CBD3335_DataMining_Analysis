{
 "cells": [
  {
   "cell_type": "markdown",
   "id": "afe06a55",
   "metadata": {},
   "source": [
    "# Ivan Zepeda\n",
    "## C0883949"
   ]
  },
  {
   "cell_type": "code",
   "execution_count": 1,
   "id": "cb1652b3",
   "metadata": {},
   "outputs": [],
   "source": [
    "import pandas as pd\n"
   ]
  },
  {
   "cell_type": "code",
   "execution_count": 2,
   "id": "92d0e0d0",
   "metadata": {},
   "outputs": [],
   "source": [
    "df = pd.DataFrame()"
   ]
  },
  {
   "cell_type": "code",
   "execution_count": null,
   "id": "9ffc4e50",
   "metadata": {},
   "outputs": [],
   "source": [
    "filtr= df['name']==\"Doe\"\n",
    "filtr2= df['name']!=\"Doe\"\n",
    "\n",
    "\n"
   ]
  },
  {
   "cell_type": "code",
   "execution_count": null,
   "id": "98967311",
   "metadata": {},
   "outputs": [],
   "source": [
    "df[df['last'].isin(['Doe','Schafer'])]"
   ]
  }
 ],
 "metadata": {
  "kernelspec": {
   "display_name": "Python 3 (ipykernel)",
   "language": "python",
   "name": "python3"
  },
  "language_info": {
   "codemirror_mode": {
    "name": "ipython",
    "version": 3
   },
   "file_extension": ".py",
   "mimetype": "text/x-python",
   "name": "python",
   "nbconvert_exporter": "python",
   "pygments_lexer": "ipython3",
   "version": "3.9.12"
  }
 },
 "nbformat": 4,
 "nbformat_minor": 5
}
