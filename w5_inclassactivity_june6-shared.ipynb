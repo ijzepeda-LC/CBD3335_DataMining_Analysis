{
 "cells": [
  {
   "cell_type": "markdown",
   "id": "df531b89",
   "metadata": {},
   "source": [
    "# Ivan Zepeda\n",
    "## C0883949\n",
    "\n"
   ]
  },
  {
   "cell_type": "markdown",
   "id": "971bb97b",
   "metadata": {},
   "source": [
    "\n",
    "\n",
    "## IN CLASS ASSIGNMENT 3 Part A"
   ]
  },
  {
   "cell_type": "code",
   "execution_count": 2,
   "id": "219ebf23",
   "metadata": {},
   "outputs": [],
   "source": [
    "from nltk.tokenize import sent_tokenize, word_tokenize\n",
    "from nltk.corpus import stopwords\n",
    "stopwords = set(stopwords.words('english'))\n",
    "from nltk.stem import PorterStemmer\n",
    "from nltk import pos_tag\n",
    "import pandas as pd\n",
    "from sklearn.feature_extraction.text import CountVectorizer\n"
   ]
  },
  {
   "cell_type": "code",
   "execution_count": 3,
   "id": "cbb1d465",
   "metadata": {},
   "outputs": [],
   "source": [
    "text=\"\"\"Feature Extraction aims to reduce the number of features in a dataset by creating new features from the existing ones (and then discarding the original features). These new reduced set of features should then be able to summarize most of the information contained in the original set of features!!!. In this way, a summarised version of the original features can be created from a combination of the original set!!!\n",
    "Another commonly used technique to reduce the number of feature in a dataset is Feature Selection! The difference between Feature Selection and/or Feature Extraction is that feature selection aims instead to $ rank the importance of the existing features in the dataset and discard less important ones (no new features are created)?!. If you are interested in finding out more about Feature Selection, you can find more information about it in my previous article.\n",
    "In this article, I will walk you through how to apply Feature Extraction techniques using the Kaggle Mushroom Classification Dataset as an example??? Our objective will be to try to predict if a Mushroom is poisonous or not by looking at the given features. All the code used in this post (and more!) is available on Kaggle and on my GitHub Account.\n",
    "\"\"\"\n"
   ]
  },
  {
   "cell_type": "markdown",
   "id": "64d9beca",
   "metadata": {},
   "source": [
    "## 1- Remove stopword and punctuation  ALSO do an internet search (e.g., stack overflow) and find alternative methods."
   ]
  },
  {
   "cell_type": "code",
   "execution_count": 4,
   "id": "149558e3",
   "metadata": {},
   "outputs": [
    {
     "name": "stdout",
     "output_type": "stream",
     "text": [
      "['Feature', 'Extraction', 'aims', 'reduce', 'number', 'features', 'dataset', 'creating', 'new', 'features', 'existing', 'ones', 'discarding', 'original', 'features', 'These', 'new', 'reduced', 'set', 'features', 'able', 'summarize', 'information', 'contained', 'original', 'set', 'features', 'In', 'way', 'summarised', 'version', 'original', 'features', 'created', 'combination', 'original', 'set', 'Another', 'commonly', 'used', 'technique', 'reduce', 'number', 'feature', 'dataset', 'Feature', 'Selection', 'The', 'difference', 'Feature', 'Selection', 'Feature', 'Extraction', 'feature', 'selection', 'aims', 'instead', 'rank', 'importance', 'existing', 'features', 'dataset', 'discard', 'less', 'important', 'ones', 'new', 'features', 'created', 'If', 'interested', 'finding', 'Feature', 'Selection', 'find', 'information', 'previous', 'article', 'In', 'article', 'I', 'walk', 'apply', 'Feature', 'Extraction', 'techniques', 'using', 'Kaggle', 'Mushroom', 'Classification', 'Dataset', 'example', 'Our', 'objective', 'try', 'predict', 'Mushroom', 'poisonous', 'looking', 'given', 'features', 'All', 'code', 'used', 'post', 'available', 'Kaggle', 'GitHub', 'Account']\n"
     ]
    }
   ],
   "source": [
    "nostopwords_text=[]\n",
    "tokenized_words= word_tokenize(text)\n",
    "for word in tokenized_words:\n",
    "    if word not in stopwords and word.isalnum():\n",
    "        nostopwords_text.append(word)\n",
    "print(nostopwords_text)"
   ]
  },
  {
   "cell_type": "markdown",
   "id": "77ed9f10",
   "metadata": {},
   "source": [
    "> alternative methods: \n",
    "> - Use Regex to filter punctuation\n",
    "> - Use built in functions for string replace\n",
    "> - Create personal stopwords list\n"
   ]
  },
  {
   "cell_type": "markdown",
   "id": "21103a46",
   "metadata": {},
   "source": [
    "## 2- Apply stemming & lemmetization"
   ]
  },
  {
   "cell_type": "code",
   "execution_count": 5,
   "id": "75e63dff",
   "metadata": {},
   "outputs": [
    {
     "name": "stdout",
     "output_type": "stream",
     "text": [
      "featur\n",
      "extract\n",
      "aim\n",
      "reduc\n",
      "number\n",
      "featur\n",
      "dataset\n",
      "creat\n",
      "new\n",
      "featur\n",
      "exist\n",
      "one\n",
      "discard\n",
      "origin\n",
      "featur\n",
      "these\n",
      "new\n",
      "reduc\n",
      "set\n",
      "featur\n",
      "abl\n",
      "summar\n",
      "inform\n",
      "contain\n",
      "origin\n",
      "set\n",
      "featur\n",
      "in\n",
      "way\n",
      "summaris\n",
      "version\n",
      "origin\n",
      "featur\n",
      "creat\n",
      "combin\n",
      "origin\n",
      "set\n",
      "anoth\n",
      "commonli\n",
      "use\n",
      "techniqu\n",
      "reduc\n",
      "number\n",
      "featur\n",
      "dataset\n",
      "featur\n",
      "select\n",
      "the\n",
      "differ\n",
      "featur\n",
      "select\n",
      "featur\n",
      "extract\n",
      "featur\n",
      "select\n",
      "aim\n",
      "instead\n",
      "rank\n",
      "import\n",
      "exist\n",
      "featur\n",
      "dataset\n",
      "discard\n",
      "less\n",
      "import\n",
      "one\n",
      "new\n",
      "featur\n",
      "creat\n",
      "if\n",
      "interest\n",
      "find\n",
      "featur\n",
      "select\n",
      "find\n",
      "inform\n",
      "previou\n",
      "articl\n",
      "in\n",
      "articl\n",
      "i\n",
      "walk\n",
      "appli\n",
      "featur\n",
      "extract\n",
      "techniqu\n",
      "use\n",
      "kaggl\n",
      "mushroom\n",
      "classif\n",
      "dataset\n",
      "exampl\n",
      "our\n",
      "object\n",
      "tri\n",
      "predict\n",
      "mushroom\n",
      "poison\n",
      "look\n",
      "given\n",
      "featur\n",
      "all\n",
      "code\n",
      "use\n",
      "post\n",
      "avail\n",
      "kaggl\n",
      "github\n",
      "account\n"
     ]
    }
   ],
   "source": [
    "ps=PorterStemmer()\n",
    "for word in nostopwords_text:\n",
    "    print(ps.stem(word))"
   ]
  },
  {
   "cell_type": "markdown",
   "id": "2bf22164",
   "metadata": {},
   "source": [
    "## 3- POS"
   ]
  },
  {
   "cell_type": "code",
   "execution_count": 6,
   "id": "dd0780b9",
   "metadata": {},
   "outputs": [
    {
     "name": "stdout",
     "output_type": "stream",
     "text": [
      "[('Feature', 'NN'), ('Extraction', 'NNP'), ('aims', 'VBZ'), ('reduce', 'VB'), ('number', 'NN'), ('features', 'NNS'), ('dataset', 'VBP'), ('creating', 'VBG'), ('new', 'JJ'), ('features', 'NNS'), ('existing', 'VBG'), ('ones', 'NNS'), ('discarding', 'VBG'), ('original', 'JJ'), ('features', 'NNS'), ('These', 'DT'), ('new', 'JJ'), ('reduced', 'VBD'), ('set', 'VBN'), ('features', 'NNS'), ('able', 'JJ'), ('summarize', 'JJ'), ('information', 'NN'), ('contained', 'VBD'), ('original', 'JJ'), ('set', 'NN'), ('features', 'NNS'), ('In', 'IN'), ('way', 'NN'), ('summarised', 'JJ'), ('version', 'NN'), ('original', 'JJ'), ('features', 'NNS'), ('created', 'VBN'), ('combination', 'NN'), ('original', 'JJ'), ('set', 'NN'), ('Another', 'DT'), ('commonly', 'RB'), ('used', 'VBN'), ('technique', 'NN'), ('reduce', 'VB'), ('number', 'NN'), ('feature', 'NN'), ('dataset', 'VBN'), ('Feature', 'NNP'), ('Selection', 'NNP'), ('The', 'DT'), ('difference', 'NN'), ('Feature', 'NNP'), ('Selection', 'NNP'), ('Feature', 'NNP'), ('Extraction', 'NNP'), ('feature', 'NN'), ('selection', 'NN'), ('aims', 'VBZ'), ('instead', 'RB'), ('rank', 'JJ'), ('importance', 'NN'), ('existing', 'VBG'), ('features', 'NNS'), ('dataset', 'VBN'), ('discard', 'RB'), ('less', 'RBR'), ('important', 'JJ'), ('ones', 'NNS'), ('new', 'JJ'), ('features', 'NNS'), ('created', 'VBN'), ('If', 'IN'), ('interested', 'JJ'), ('finding', 'NN'), ('Feature', 'NNP'), ('Selection', 'NNP'), ('find', 'VBP'), ('information', 'NN'), ('previous', 'JJ'), ('article', 'NN'), ('In', 'IN'), ('article', 'NN'), ('I', 'PRP'), ('walk', 'VBP'), ('apply', 'JJ'), ('Feature', 'NNP'), ('Extraction', 'NNP'), ('techniques', 'NNS'), ('using', 'VBG'), ('Kaggle', 'NNP'), ('Mushroom', 'NNP'), ('Classification', 'NNP'), ('Dataset', 'NNP'), ('example', 'NN'), ('Our', 'PRP$'), ('objective', 'JJ'), ('try', 'NN'), ('predict', 'NN'), ('Mushroom', 'NNP'), ('poisonous', 'JJ'), ('looking', 'VBG'), ('given', 'VBN'), ('features', 'NNS'), ('All', 'DT'), ('code', 'NNS'), ('used', 'VBD'), ('post', 'NN'), ('available', 'JJ'), ('Kaggle', 'NNP'), ('GitHub', 'NNP'), ('Account', 'NNP')]\n"
     ]
    }
   ],
   "source": [
    "pos_text = pos_tag(nostopwords_text)\n",
    "print(pos_text)\n"
   ]
  },
  {
   "cell_type": "markdown",
   "id": "d36fb22e",
   "metadata": {},
   "source": [
    "## 4- Bag of words"
   ]
  },
  {
   "cell_type": "code",
   "execution_count": 7,
   "id": "0a46bb3a",
   "metadata": {},
   "outputs": [],
   "source": [
    "text_1=\"\"\"Feature Extraction aims to reduce the number of features in a dataset by creating new features from the existing ones (and then discarding the original features). These new reduced set of features should then be able to summarize most of the information contained in the original set of features!!!. In this way, a summarised version of the original features can be created from a combination of the original set!!!\"\"\"\n",
    "text_2=\"\"\"Another commonly used technique to reduce the number of feature in a dataset is Feature Selection! The difference between Feature Selection and/or Feature Extraction is that feature selection aims instead to $ rank the importance of the existing features in the dataset and discard less important ones (no new features are created)?!. If you are interested in finding out more about Feature Selection, you can find more information about it in my previous article.\"\"\"\n",
    "text_3=\"\"\"In this article, I will walk you through how to apply Feature Extraction techniques using the Kaggle Mushroom Classification Dataset as an example??? Our objective will be to try to predict if a Mushroom is poisonous or not by looking at the given features. All the code used in this post (and more!) is available on Kaggle and on my GitHub Account.\"\"\""
   ]
  },
  {
   "cell_type": "code",
   "execution_count": 8,
   "id": "e1eddda0",
   "metadata": {},
   "outputs": [
    {
     "ename": "NameError",
     "evalue": "name 'text1' is not defined",
     "output_type": "error",
     "traceback": [
      "\u001b[0;31m---------------------------------------------------------------------------\u001b[0m",
      "\u001b[0;31mNameError\u001b[0m                                 Traceback (most recent call last)",
      "Cell \u001b[0;32mIn[8], line 8\u001b[0m\n\u001b[1;32m      5\u001b[0m     df \u001b[38;5;241m=\u001b[39m pd\u001b[38;5;241m.\u001b[39mDataFrame(columns\u001b[38;5;241m=\u001b[39mvectorizer\u001b[38;5;241m.\u001b[39mget_feature_names(), data\u001b[38;5;241m=\u001b[39mBOW\u001b[38;5;241m.\u001b[39mtoarray())\n\u001b[1;32m      6\u001b[0m     \u001b[38;5;28;01mreturn\u001b[39;00m df\n\u001b[0;32m----> 8\u001b[0m df1\u001b[38;5;241m=\u001b[39mbag_of_words(\u001b[43mtext1\u001b[49m)\n\u001b[1;32m      9\u001b[0m df2\u001b[38;5;241m=\u001b[39mbag_of_words(text2)\n\u001b[1;32m     10\u001b[0m df3\u001b[38;5;241m=\u001b[39mbag_of_words(text3)\n",
      "\u001b[0;31mNameError\u001b[0m: name 'text1' is not defined"
     ]
    }
   ],
   "source": [
    "\n",
    "def bag_of_words(_text):\n",
    "    _text = [x.lower() for x in word_tokenize(_text) if x.isalnum()]\n",
    "    vectorizer = CountVectorizer()\n",
    "    BOW = vectorizer.fit_transform(_text)\n",
    "    df = pd.DataFrame(columns=vectorizer.get_feature_names(), data=BOW.toarray())\n",
    "    return df\n",
    "\n",
    "df1=bag_of_words(text1)\n",
    "df2=bag_of_words(text2)\n",
    "df3=bag_of_words(text3)"
   ]
  },
  {
   "cell_type": "code",
   "execution_count": null,
   "id": "be1b09a8",
   "metadata": {},
   "outputs": [],
   "source": [
    "df1.head(2)"
   ]
  },
  {
   "cell_type": "code",
   "execution_count": null,
   "id": "7c878622",
   "metadata": {},
   "outputs": [],
   "source": [
    "df2.head(2)"
   ]
  },
  {
   "cell_type": "code",
   "execution_count": null,
   "id": "20361483",
   "metadata": {},
   "outputs": [],
   "source": [
    "df3.head(2)"
   ]
  },
  {
   "cell_type": "markdown",
   "id": "fc4e28c5",
   "metadata": {},
   "source": [
    "## 5- Tfidf"
   ]
  },
  {
   "cell_type": "code",
   "execution_count": 9,
   "id": "66d8265a",
   "metadata": {},
   "outputs": [
    {
     "name": "stderr",
     "output_type": "stream",
     "text": [
      "/Users/ivan/opt/anaconda3/envs/sem2/lib/python3.9/site-packages/sklearn/utils/deprecation.py:87: FutureWarning: Function get_feature_names is deprecated; get_feature_names is deprecated in 1.0 and will be removed in 1.2. Please use get_feature_names_out instead.\n",
      "  warnings.warn(msg, category=FutureWarning)\n"
     ]
    }
   ],
   "source": [
    "from sklearn.feature_extraction.text import TfidfVectorizer\n",
    "\n",
    "documents = [text_1,text_2,text_3]\n",
    "\n",
    "vectorizer = TfidfVectorizer()\n",
    "\n",
    "tfidf = vectorizer.fit_transform(documents)\n",
    "\n",
    "feature = vectorizer.get_feature_names()\n",
    "\n",
    "df=pd.DataFrame(columns=feature, data=tfidf.toarray())\n"
   ]
  },
  {
   "cell_type": "code",
   "execution_count": null,
   "id": "2a0f5afe",
   "metadata": {},
   "outputs": [],
   "source": []
  }
 ],
 "metadata": {
  "kernelspec": {
   "display_name": "Python 3 (ipykernel)",
   "language": "python",
   "name": "python3"
  },
  "language_info": {
   "codemirror_mode": {
    "name": "ipython",
    "version": 3
   },
   "file_extension": ".py",
   "mimetype": "text/x-python",
   "name": "python",
   "nbconvert_exporter": "python",
   "pygments_lexer": "ipython3",
   "version": "3.9.12"
  }
 },
 "nbformat": 4,
 "nbformat_minor": 5
}
